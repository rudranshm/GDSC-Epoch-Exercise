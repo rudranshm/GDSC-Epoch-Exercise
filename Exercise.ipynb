{
 "cells": [
  {
   "cell_type": "code",
   "execution_count": 6,
   "metadata": {},
   "outputs": [],
   "source": [
    "#Importing Libraries\n",
    "import numpy as np\n",
    "from sklearn.linear_model import LogisticRegression\n",
    "from sklearn.model_selection import train_test_split\n",
    "from sklearn.metrics import accuracy_score\n",
    "import pandas as pd"
   ]
  },
  {
   "cell_type": "code",
   "execution_count": 7,
   "metadata": {},
   "outputs": [],
   "source": [
    "#Reading data from the CSV file as a DataFrame object\n",
    "data=pd.read_csv('Aux Codes/data.csv',sep='\\t',engine='python')\n",
    "#Splitting into training and testing data\n",
    "train_data, test_data = train_test_split(data)"
   ]
  },
  {
   "cell_type": "code",
   "execution_count": 8,
   "metadata": {},
   "outputs": [],
   "source": [
    "#Splitting Train data into 'x' (input) and 'y' (output)\n",
    "\n",
    "x_train=train_data[['A','B','C','D']]\n",
    "y_train=train_data['E']"
   ]
  },
  {
   "cell_type": "code",
   "execution_count": 9,
   "metadata": {},
   "outputs": [
    {
     "name": "stdout",
     "output_type": "stream",
     "text": [
      "0.99808\n"
     ]
    }
   ],
   "source": [
    "#Loading model\n",
    "model = LogisticRegression(random_state=0,max_iter=10000)\n",
    "\n",
    "#Training model\n",
    "model.fit(x_train,y_train)\n",
    "\n",
    "\n",
    "#Splitting Test data into 'x' (input) and 'y' (output)\n",
    "x_test=test_data[['A','B','C','D']]\n",
    "y_test=test_data['E']\n",
    "\n",
    "#Testing model\n",
    "print(accuracy_score(y_test, model.predict(x_test)))"
   ]
  },
  {
   "cell_type": "code",
   "execution_count": 10,
   "metadata": {},
   "outputs": [],
   "source": [
    "#Saving the coefficients of the Linear classifier in 'coeff.csv'\n",
    "\n",
    "coefficients = pd.concat([pd.DataFrame(data[['A','B','C','D']].columns),pd.DataFrame(np.transpose(model.coef_))], axis = 1)\n",
    "coefficients.to_csv(\"coeff.csv\", sep='\\t')"
   ]
  }
 ],
 "metadata": {
  "kernelspec": {
   "display_name": "Python 3",
   "language": "python",
   "name": "python3"
  },
  "language_info": {
   "codemirror_mode": {
    "name": "ipython",
    "version": 3
   },
   "file_extension": ".py",
   "mimetype": "text/x-python",
   "name": "python",
   "nbconvert_exporter": "python",
   "pygments_lexer": "ipython3",
   "version": "3.10.6"
  },
  "orig_nbformat": 4
 },
 "nbformat": 4,
 "nbformat_minor": 2
}
