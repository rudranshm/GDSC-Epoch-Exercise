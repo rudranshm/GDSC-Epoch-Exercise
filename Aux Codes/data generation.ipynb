{
 "cells": [
  {
   "cell_type": "code",
   "execution_count": 1,
   "metadata": {},
   "outputs": [],
   "source": [
    "import pandas as pd"
   ]
  },
  {
   "cell_type": "code",
   "execution_count": 2,
   "metadata": {},
   "outputs": [],
   "source": [
    "a=[]\n",
    "b=[]\n",
    "c=[]\n",
    "d=[]\n",
    "e=[]\n",
    "for x in range (32):\n",
    "    if x%2==0:\n",
    "        d+=[0]\n",
    "    else:\n",
    "        d+=[1]\n",
    "    if (x//2)%2==0:\n",
    "        c+=[0]\n",
    "    else:\n",
    "        c+=[1]\n",
    "    if (x//4)%2==0:\n",
    "        b+=[0]\n",
    "    else:\n",
    "        b+=[1]\n",
    "    if (x//8)%2==0:\n",
    "        a+=[0]\n",
    "    else:\n",
    "        a+=[1]\n",
    "    if (a[x]+b[x]+c[x]+d[x])%2==0:\n",
    "        e+=[0]\n",
    "    else:\n",
    "        e+=[1]\n",
    "\n",
    "data = pd.DataFrame({'A':a,'B':b,'C':c,'D':d,'E':e})"
   ]
  },
  {
   "cell_type": "code",
   "execution_count": 3,
   "metadata": {},
   "outputs": [
    {
     "name": "stdout",
     "output_type": "stream",
     "text": [
      "    A  B  C  D  E\n",
      "0   0  0  0  0  0\n",
      "1   0  0  0  1  1\n",
      "2   0  0  1  0  1\n",
      "3   0  0  1  1  0\n",
      "4   0  1  0  0  1\n",
      "5   0  1  0  1  0\n",
      "6   0  1  1  0  0\n",
      "7   0  1  1  1  1\n",
      "8   1  0  0  0  1\n",
      "9   1  0  0  1  0\n",
      "10  1  0  1  0  0\n",
      "11  1  0  1  1  1\n",
      "12  1  1  0  0  0\n",
      "13  1  1  0  1  1\n",
      "14  1  1  1  0  1\n",
      "15  1  1  1  1  0\n",
      "16  0  0  0  0  0\n",
      "17  0  0  0  1  1\n",
      "18  0  0  1  0  1\n",
      "19  0  0  1  1  0\n",
      "20  0  1  0  0  1\n",
      "21  0  1  0  1  0\n",
      "22  0  1  1  0  0\n",
      "23  0  1  1  1  1\n",
      "24  1  0  0  0  1\n",
      "25  1  0  0  1  0\n",
      "26  1  0  1  0  0\n",
      "27  1  0  1  1  1\n",
      "28  1  1  0  0  0\n",
      "29  1  1  0  1  1\n",
      "30  1  1  1  0  1\n",
      "31  1  1  1  1  0\n"
     ]
    }
   ],
   "source": [
    "print(data)"
   ]
  },
  {
   "cell_type": "code",
   "execution_count": 4,
   "metadata": {},
   "outputs": [],
   "source": [
    "data.to_csv(\"data.csv\", sep='\\t')"
   ]
  }
 ],
 "metadata": {
  "kernelspec": {
   "display_name": "Python 3",
   "language": "python",
   "name": "python3"
  },
  "language_info": {
   "codemirror_mode": {
    "name": "ipython",
    "version": 3
   },
   "file_extension": ".py",
   "mimetype": "text/x-python",
   "name": "python",
   "nbconvert_exporter": "python",
   "pygments_lexer": "ipython3",
   "version": "3.10.6"
  },
  "orig_nbformat": 4
 },
 "nbformat": 4,
 "nbformat_minor": 2
}
